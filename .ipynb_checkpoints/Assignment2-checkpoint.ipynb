{
 "cells": [
  {
   "cell_type": "code",
   "execution_count": 53,
   "metadata": {
    "scrolled": true
   },
   "outputs": [
    {
     "name": "stdout",
     "output_type": "stream",
     "text": [
      "epoch :  0 , lrnCor :  500 valCor :  128 elapsed time :  1.2233901023864746\n",
      "epoch :  1 , lrnCor :  527 valCor :  128 elapsed time :  1.205294132232666\n",
      "epoch :  2 , lrnCor :  529 valCor :  128 elapsed time :  1.1853959560394287\n",
      "epoch :  3 , lrnCor :  529 valCor :  128 elapsed time :  1.1902527809143066\n",
      "epoch :  4 , lrnCor :  555 valCor :  129 elapsed time :  1.1835720539093018\n",
      "epoch :  5 , lrnCor :  562 valCor :  135 elapsed time :  1.187741994857788\n",
      "epoch :  6 , lrnCor :  569 valCor :  140 elapsed time :  1.1962802410125732\n",
      "epoch :  7 , lrnCor :  577 valCor :  149 elapsed time :  1.2075989246368408\n",
      "epoch :  8 , lrnCor :  577 valCor :  160 elapsed time :  1.2019178867340088\n",
      "epoch :  9 , lrnCor :  584 valCor :  176 elapsed time :  1.1851110458374023\n",
      "epoch :  10 , lrnCor :  602 valCor :  183 elapsed time :  1.1792881488800049\n",
      "epoch :  11 , lrnCor :  626 valCor :  189 elapsed time :  1.1846671104431152\n",
      "epoch :  12 , lrnCor :  638 valCor :  199 elapsed time :  1.198861837387085\n",
      "epoch :  13 , lrnCor :  650 valCor :  204 elapsed time :  1.2726571559906006\n",
      "epoch :  14 , lrnCor :  663 valCor :  210 elapsed time :  1.2157299518585205\n",
      "epoch :  15 , lrnCor :  671 valCor :  214 elapsed time :  1.192976951599121\n",
      "epoch :  16 , lrnCor :  677 valCor :  219 elapsed time :  1.2451868057250977\n",
      "epoch :  17 , lrnCor :  684 valCor :  220 elapsed time :  1.193648099899292\n",
      "epoch :  18 , lrnCor :  687 valCor :  222 elapsed time :  1.1919212341308594\n",
      "epoch :  19 , lrnCor :  690 valCor :  222 elapsed time :  1.1813380718231201\n",
      "epoch :  20 , lrnCor :  699 valCor :  222 elapsed time :  1.2138769626617432\n",
      "epoch :  21 , lrnCor :  702 valCor :  222 elapsed time :  1.2256219387054443\n",
      "epoch :  22 , lrnCor :  707 valCor :  224 elapsed time :  1.2045838832855225\n",
      "epoch :  23 , lrnCor :  710 valCor :  223 elapsed time :  1.179481029510498\n",
      "epoch :  24 , lrnCor :  713 valCor :  222 elapsed time :  1.1800932884216309\n",
      "epoch :  25 , lrnCor :  716 valCor :  223 elapsed time :  1.1968786716461182\n",
      "epoch :  26 , lrnCor :  723 valCor :  224 elapsed time :  1.4176840782165527\n",
      "epoch :  27 , lrnCor :  726 valCor :  226 elapsed time :  1.4924306869506836\n",
      "epoch :  28 , lrnCor :  724 valCor :  225 elapsed time :  1.1811299324035645\n",
      "epoch :  29 , lrnCor :  726 valCor :  225 elapsed time :  1.1901829242706299\n",
      "epoch :  30 , lrnCor :  731 valCor :  225 elapsed time :  1.1939079761505127\n",
      "epoch :  31 , lrnCor :  733 valCor :  225 elapsed time :  1.1956188678741455\n",
      "epoch :  32 , lrnCor :  733 valCor :  226 elapsed time :  1.1950280666351318\n",
      "epoch :  33 , lrnCor :  732 valCor :  226 elapsed time :  1.1961328983306885\n",
      "epoch :  34 , lrnCor :  733 valCor :  226 elapsed time :  1.1784329414367676\n",
      "epoch :  35 , lrnCor :  737 valCor :  226 elapsed time :  1.1807570457458496\n",
      "epoch :  36 , lrnCor :  739 valCor :  226 elapsed time :  1.1908159255981445\n",
      "epoch :  37 , lrnCor :  742 valCor :  226 elapsed time :  1.2485361099243164\n",
      "epoch :  38 , lrnCor :  744 valCor :  227 elapsed time :  1.221879005432129\n",
      "epoch :  39 , lrnCor :  745 valCor :  227 elapsed time :  1.1919658184051514\n",
      "epoch :  40 , lrnCor :  746 valCor :  227 elapsed time :  1.206575870513916\n",
      "epoch :  41 , lrnCor :  748 valCor :  226 elapsed time :  1.191767692565918\n",
      "epoch :  42 , lrnCor :  751 valCor :  226 elapsed time :  1.240525245666504\n",
      "epoch :  43 , lrnCor :  752 valCor :  226 elapsed time :  1.2290832996368408\n",
      "epoch :  44 , lrnCor :  751 valCor :  225 elapsed time :  1.2479329109191895\n",
      "epoch :  45 , lrnCor :  751 valCor :  225 elapsed time :  1.1896629333496094\n",
      "epoch :  46 , lrnCor :  751 valCor :  225 elapsed time :  1.1855111122131348\n",
      "epoch :  47 , lrnCor :  752 valCor :  224 elapsed time :  1.203237771987915\n",
      "epoch :  48 , lrnCor :  754 valCor :  224 elapsed time :  1.1785480976104736\n",
      "epoch :  49 , lrnCor :  758 valCor :  224 elapsed time :  1.236281156539917\n"
     ]
    }
   ],
   "source": [
    "import torch\n",
    "from torch.utils.data import Dataset, DataLoader\n",
    "import torchvision.transforms as transforms\n",
    "import torchvision\n",
    "import os\n",
    "import numpy as np\n",
    "import matplotlib.pyplot as plt\n",
    "import time\n",
    "\n",
    "transform = transforms.Compose([#transforms.Resize((256,256)),  \n",
    "                                transforms.Grayscale(),\t\t# the code transforms.Graysclae() is for changing the size [3,100,100] to [1, 100, 100] (notice : [channel, height, width] )\n",
    "                                transforms.ToTensor(),])\n",
    "\n",
    "\n",
    "#train_data_path = 'relative path of training data set'\n",
    "train_data_path = './horse-or-human/train'\n",
    "trainset = torchvision.datasets.ImageFolder(root=train_data_path, transform=transform)\n",
    "# change the valuse of batch_size, num_workers for your program\n",
    "# if shuffle=True, the data reshuffled at every epoch \n",
    "trainloader = torch.utils.data.DataLoader(trainset, batch_size=3, shuffle=False, num_workers=1)  \n",
    "\n",
    "\n",
    "validation_data_path = './horse-or-human/validation'\n",
    "valset = torchvision.datasets.ImageFolder(root=validation_data_path, transform=transform)\n",
    "# change the valuse of batch_size, num_workers for your program\n",
    "valloader = torch.utils.data.DataLoader(valset, batch_size=3, shuffle=False, num_workers=1)  \n",
    "\n",
    "\n",
    "\n",
    "NUM_EPOCH = 50\n",
    "\n",
    "#Initialize Coef to Zeros\n",
    "coef = np.zeros((1,10001), dtype = float)\n",
    "\n",
    "#Set Learning Rate\n",
    "lrnRate = 0.002\n",
    "\n",
    "# Set Loss Lists\n",
    "lrnLoss = list()\n",
    "valLoss = list()\n",
    "\n",
    "# Set Accurate Lists\n",
    "lrnAcc = list()\n",
    "valAcc = list()\n",
    "\n",
    "# set Elapsed time Lists\n",
    "elapTime = list()\n",
    "\n",
    "\n",
    "for epoch in range(NUM_EPOCH):\n",
    "    # load training images of the batch size for every iteration\n",
    "    \n",
    "    #Set Sum of Derivatives to 0\n",
    "    sumDCoef = np.zeros((10001,1), dtype = float)\n",
    "    \n",
    "    #Set Sum of Loss to 0\n",
    "    sumL = 0\n",
    "    \n",
    "    #Set Sum of Cor to 0\n",
    "    cor = 0\n",
    "    \n",
    "    start_time = time.time()\n",
    "    for i, data in enumerate(trainloader):\n",
    "        # inputs is the image\n",
    "        # labels is the class of the image\n",
    "        inputs, labels = data\n",
    "        \n",
    "\n",
    "        # if you don't change the image size, it will be [batch_size, 1, 100, 100]\n",
    "\n",
    "        batch_size = inputs.shape[0]\n",
    "\n",
    "\n",
    "\n",
    "        # if labels is horse it returns tensor[0,0,0] else it returns tensor[1,1,1]\n",
    "\n",
    "        \n",
    "        # change inputs to matrix 10000*batch_size\n",
    "        for bat_idx in range(batch_size):\n",
    "            \n",
    "            targMat = inputs[bat_idx][0]\n",
    "\n",
    "            colVec = np.reshape(targMat, (np.product(targMat.shape), 1), 'F')\n",
    "            \n",
    "            if(bat_idx == 0):\n",
    "                batMat = colVec\n",
    "            else:\n",
    "                batMat = np.concatenate((batMat, colVec), axis = 1)         \n",
    "            \n",
    "        # Add ones because of the value b in coefficient\n",
    "        ones = np.ones((1, batch_size), dtype = int)\n",
    "        batMat = np.concatenate((batMat, ones))\n",
    "\n",
    "\n",
    "        \n",
    "\n",
    "        # Start Regression Calculation\n",
    "        z = np.dot(coef, batMat)                                           #coef.shape = (1,10001), batMat.shape = (10001, batch_size), z.shape = (1, batch_size)\n",
    "        a = 1/(1 + np.exp(-z))                                                 #a.shape = (1, batch_size)\n",
    "        dz = np.subtract(a, labels)                                        #dz.shape = (1, batch_size)\n",
    "        batMat = torch.from_numpy(batMat)                       #change ndarray to tensor\n",
    "        dCoef = dz * batMat                                                 #dCoef.shape = (10001, batch_size)\n",
    "        sumHelper = np.ones((batch_size,1), dtype = int)    #sumHelper.shape = (batch_size,1)\n",
    "        sumDCoef += np.dot(dCoef, sumHelper)                 #sumDCoef.shape = (10001, batch_size)\n",
    "        \n",
    "        \n",
    "        # Calculate Total Loss\n",
    "        a = torch.from_numpy(a)                       #change ndarray to tensor\n",
    "        dLabels = labels.double()                      #change tensor type to double\n",
    "        L = -(dLabels) * np.log(a) - (1-dLabels) * np.log(1-a)      #labels.shape = (1, batch_size), L.shape = (1,batch_size)\n",
    "        sumL += L.sum()\n",
    "        \n",
    "        \n",
    "        \n",
    "        # Calculate Accuracy\n",
    "        \n",
    "\n",
    "        for batIdx in range(batch_size):\n",
    "\n",
    "            if(a[0][batIdx] <= 0.5 and labels[batIdx] == 0):\n",
    "                cor += 1\n",
    "\n",
    "            if(a[0][batIdx] > 0.5 and labels[batIdx] == 1):\n",
    "                cor += 1\n",
    "            \n",
    "        \n",
    "    \n",
    "    totalDataNum = len(trainloader.dataset)\n",
    "        \n",
    "    # Calculate dLossdCoef\n",
    "\n",
    "    sumDCoef /= totalDataNum\n",
    "\n",
    "    # Update coefs using derivatives\n",
    "    coef = coef.T\n",
    "    coef -= lrnRate * sumDCoef\n",
    "    coef = coef.T\n",
    "    \n",
    "    elapsed_time = time.time() - start_time\n",
    "    elapTime.append(elapsed_time)\n",
    "\n",
    "\n",
    "    # Calculate TotalLoss\n",
    "    sumL /= totalDataNum\n",
    "\n",
    "    lrnLoss.append(sumL)\n",
    "    \n",
    "    \n",
    "    # Calculate Accuracy\n",
    "    \n",
    "    lrnAccRate = cor/totalDataNum\n",
    "    lrnAcc.append(lrnAccRate)\n",
    "    \n",
    "                \n",
    "\n",
    "\n",
    "    # Set Sum Of Valid Loss to 0\n",
    "    sumVL = 0\n",
    "    # Set Sum of Valid Cor to 0\n",
    "    vCor = 0\n",
    "    \n",
    "    # load validation images of the batch size for every iteration\n",
    "    for i, data in enumerate(valloader):\n",
    "        \n",
    "        # inputs is the image\n",
    "        # labels is the class of the image\n",
    "        inputs, labels = data\n",
    "        \n",
    "        # if you don't change the image size, it will be [batch_size, 1, 100, 100]\n",
    "         # if labels is horse it returns tensor[0,0,0] else it returns tensor[1,1,1]\n",
    "\n",
    "        batch_size = inputs.shape[0]\n",
    "        \n",
    "    \n",
    "        # Change Inputs to matrix 10000*batch_size\n",
    "        \n",
    "        for bat_idx in range(batch_size):\n",
    "            targMat = inputs[bat_idx][0]\n",
    "            colVec = np.reshape(targMat, (np.product(targMat.shape), 1), 'F')\n",
    "            \n",
    "            if(bat_idx == 0):\n",
    "                batMat = colVec\n",
    "            else:\n",
    "                batMat = np.concatenate((batMat,colVec), axis = 1)\n",
    "                \n",
    "            \n",
    "            \n",
    "        # Add ones because of the value b in coefficient\n",
    "        ones = np.ones((1, batch_size), dtype = int)\n",
    "        batMat = np.concatenate((batMat, ones))\n",
    "\n",
    "        \n",
    "        # Start Calculate Loss \n",
    "        z = np.dot(coef, batMat)\n",
    "        a = 1/(1+np.exp(-z))\n",
    "        a = torch.from_numpy(a)\n",
    "        dLabels = labels.double()\n",
    "        L = -(dLabels) * np.log(a) - (1-dLabels) * np.log(1-a)\n",
    "        sumVL += L.sum()\n",
    "\n",
    "        \n",
    "        # Calculate Accuracy\n",
    "        \n",
    "        for batIdx in range(batch_size):\n",
    "            if(a[0][batIdx] <= 0.5 and labels[batIdx] == 0):\n",
    "                vCor += 1\n",
    "                \n",
    "            if(a[0][batIdx] > 0.5 and labels[batIdx] == 1):\n",
    "                vCor += 1\n",
    "    \n",
    "    totalValDataNum = len(valloader.dataset)\n",
    "    \n",
    "    # CalCulate Total Loss\n",
    "    sumVL /= totalValDataNum\n",
    "    valLoss.append(sumVL)\n",
    "    \n",
    "    \n",
    "    # Calculate Accuracy\n",
    "    vAcc = vCor/totalValDataNum\n",
    "    valAcc.append(vAcc)\n",
    "    \n",
    "    \n",
    "    print(\"epoch : \",epoch,',', \"lrnCor : \", cor, \"valCor : \", vCor, \"elapsed time : \", elapsed_time)\n",
    "    \n",
    "    "
   ]
  },
  {
   "cell_type": "code",
   "execution_count": 54,
   "metadata": {
    "scrolled": false
   },
   "outputs": [
    {
     "data": {
      "text/plain": [
       "[<matplotlib.lines.Line2D at 0x1226c8c50>]"
      ]
     },
     "execution_count": 54,
     "metadata": {},
     "output_type": "execute_result"
    },
    {
     "data": {
      "image/png": "[encoded data removed]",
      "text/plain": [
       "<Figure size 432x288 with 1 Axes>"
      ]
     },
     "metadata": {
      "needs_background": "light"
     },
     "output_type": "display_data"
    }
   ],
   "source": [
    "plt.plot(lrnLoss)"
   ]
  },
  {
   "cell_type": "code",
   "execution_count": 55,
   "metadata": {},
   "outputs": [
    {
     "data": {
      "text/plain": [
       "[<matplotlib.lines.Line2D at 0x1227761d0>]"
      ]
     },
     "execution_count": 55,
     "metadata": {},
     "output_type": "execute_result"
    },
    {
     "data": {
      "image/png": "[encoded data removed]",
      "text/plain": [
       "<Figure size 432x288 with 1 Axes>"
      ]
     },
     "metadata": {
      "needs_background": "light"
     },
     "output_type": "display_data"
    }
   ],
   "source": [
    "plt.plot(lrnAcc)"
   ]
  },
  {
   "cell_type": "code",
   "execution_count": 56,
   "metadata": {},
   "outputs": [
    {
     "data": {
      "text/plain": [
       "[<matplotlib.lines.Line2D at 0x122881860>]"
      ]
     },
     "execution_count": 56,
     "metadata": {},
     "output_type": "execute_result"
    },
    {
     "data": {
      "image/png": "[encoded data removed]",
      "text/plain": [
       "<Figure size 432x288 with 1 Axes>"
      ]
     },
     "metadata": {
      "needs_background": "light"
     },
     "output_type": "display_data"
    }
   ],
   "source": [
    "plt.plot(valLoss)"
   ]
  },
  {
   "cell_type": "code",
   "execution_count": 57,
   "metadata": {},
   "outputs": [
    {
     "data": {
      "text/plain": [
       "[<matplotlib.lines.Line2D at 0x1228d9898>]"
      ]
     },
     "execution_count": 57,
     "metadata": {},
     "output_type": "execute_result"
    },
    {
     "data": {
      "image/png": "[encoded data removed]",
      "text/plain": [
       "<Figure size 432x288 with 1 Axes>"
      ]
     },
     "metadata": {
      "needs_background": "light"
     },
     "output_type": "display_data"
    }
   ],
   "source": [
    "plt.plot(valAcc)"
   ]
  },
  {
   "cell_type": "code",
   "execution_count": 58,
   "metadata": {},
   "outputs": [
    {
     "data": {
      "text/plain": [
       "[<matplotlib.lines.Line2D at 0x122a088d0>]"
      ]
     },
     "execution_count": 58,
     "metadata": {},
     "output_type": "execute_result"
    },
    {
     "data": {
      "image/png": "[encoded data removed]",
      "text/plain": [
       "<Figure size 432x288 with 1 Axes>"
      ]
     },
     "metadata": {
      "needs_background": "light"
     },
     "output_type": "display_data"
    }
   ],
   "source": [
    "plt.plot(elapTime)"
   ]
  },
  {
   "cell_type": "code",
   "execution_count": null,
   "metadata": {},
   "outputs": [],
   "source": []
  }
 ],
 "metadata": {
  "kernelspec": {
   "display_name": "Python 3",
   "language": "python",
   "name": "python3"
  },
  "language_info": {
   "codemirror_mode": {
    "name": "ipython",
    "version": 3
   },
   "file_extension": ".py",
   "mimetype": "text/x-python",
   "name": "python",
   "nbconvert_exporter": "python",
   "pygments_lexer": "ipython3",
   "version": "3.7.3"
  }
 },
 "nbformat": 4,
 "nbformat_minor": 2
}
