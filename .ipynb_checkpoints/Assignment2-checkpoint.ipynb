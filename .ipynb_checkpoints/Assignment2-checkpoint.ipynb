{
 "cells": [
  {
   "cell_type": "code",
   "execution_count": 75,
   "metadata": {
    "scrolled": true
   },
   "outputs": [
    {
     "name": "stdout",
     "output_type": "stream",
     "text": [
      "epoch :  0 , lrnCor :  500 valCor :  128 elapsed time :  1.315706729888916\n",
      "epoch :  1 , lrnCor :  527 valCor :  128 elapsed time :  1.283653974533081\n",
      "epoch :  2 , lrnCor :  529 valCor :  128 elapsed time :  1.1907141208648682\n",
      "epoch :  3 , lrnCor :  529 valCor :  128 elapsed time :  1.5005841255187988\n",
      "epoch :  4 , lrnCor :  555 valCor :  129 elapsed time :  1.4125480651855469\n"
     ]
    }
   ],
   "source": [
    "import torch\n",
    "from torch.utils.data import Dataset, DataLoader\n",
    "import torchvision.transforms as transforms\n",
    "import torchvision\n",
    "import os\n",
    "import numpy as np\n",
    "import matplotlib.pyplot as plt\n",
    "import time\n",
    "from prettytable import PrettyTable\n",
    "from tabulate import tabulate\n",
    "\n",
    "transform = transforms.Compose([#transforms.Resize((256,256)),  \n",
    "                                transforms.Grayscale(),\t\t# the code transforms.Graysclae() is for changing the size [3,100,100] to [1, 100, 100] (notice : [channel, height, width] )\n",
    "                                transforms.ToTensor(),])\n",
    "\n",
    "\n",
    "#train_data_path = 'relative path of training data set'\n",
    "train_data_path = './horse-or-human/train'\n",
    "trainset = torchvision.datasets.ImageFolder(root=train_data_path, transform=transform)\n",
    "# change the valuse of batch_size, num_workers for your program\n",
    "# if shuffle=True, the data reshuffled at every epoch \n",
    "trainloader = torch.utils.data.DataLoader(trainset, batch_size=3, shuffle=False, num_workers=1)  \n",
    "\n",
    "\n",
    "validation_data_path = './horse-or-human/validation'\n",
    "valset = torchvision.datasets.ImageFolder(root=validation_data_path, transform=transform)\n",
    "# change the valuse of batch_size, num_workers for your program\n",
    "valloader = torch.utils.data.DataLoader(valset, batch_size=3, shuffle=False, num_workers=1)  \n",
    "\n",
    "\n",
    "\n",
    "NUM_EPOCH = 5\n",
    "\n",
    "#Initialize Coef to Zeros\n",
    "coef = np.zeros((1,10001), dtype = float)\n",
    "\n",
    "#Set Learning Rate\n",
    "lrnRate = 0.002\n",
    "\n",
    "# Set Loss Lists\n",
    "lrnLoss = list()\n",
    "valLoss = list()\n",
    "\n",
    "# Set Accurate Lists\n",
    "lrnAcc = list()\n",
    "valAcc = list()\n",
    "\n",
    "# set Elapsed time Lists\n",
    "elapTime = list()\n",
    "\n",
    "\n",
    "for epoch in range(NUM_EPOCH):\n",
    "    # load training images of the batch size for every iteration\n",
    "    \n",
    "    #Set Sum of Derivatives to 0\n",
    "    sumDCoef = np.zeros((10001,1), dtype = float)\n",
    "    \n",
    "    #Set Sum of Loss to 0\n",
    "    sumL = 0\n",
    "    \n",
    "    #Set Sum of Cor to 0\n",
    "    cor = 0\n",
    "    \n",
    "    start_time = time.time()\n",
    "    for i, data in enumerate(trainloader):\n",
    "        # inputs is the image\n",
    "        # labels is the class of the image\n",
    "        inputs, labels = data\n",
    "        \n",
    "\n",
    "        # if you don't change the image size, it will be [batch_size, 1, 100, 100]\n",
    "\n",
    "        batch_size = inputs.shape[0]\n",
    "\n",
    "\n",
    "\n",
    "        # if labels is horse it returns tensor[0,0,0] else it returns tensor[1,1,1]\n",
    "\n",
    "        \n",
    "        # change inputs to matrix 10000*batch_size\n",
    "        for bat_idx in range(batch_size):\n",
    "            \n",
    "            targMat = inputs[bat_idx][0]\n",
    "\n",
    "            colVec = np.reshape(targMat, (np.product(targMat.shape), 1), 'F')\n",
    "            \n",
    "            if(bat_idx == 0):\n",
    "                batMat = colVec\n",
    "            else:\n",
    "                batMat = np.concatenate((batMat, colVec), axis = 1)         \n",
    "            \n",
    "        # Add ones because of the value b in coefficient\n",
    "        ones = np.ones((1, batch_size), dtype = int)\n",
    "        batMat = np.concatenate((batMat, ones))\n",
    "\n",
    "\n",
    "        \n",
    "\n",
    "        # Start Regression Calculation\n",
    "        z = np.dot(coef, batMat)                                           #coef.shape = (1,10001), batMat.shape = (10001, batch_size), z.shape = (1, batch_size)\n",
    "        a = 1/(1 + np.exp(-z))                                                 #a.shape = (1, batch_size)\n",
    "        dz = np.subtract(a, labels)                                        #dz.shape = (1, batch_size)\n",
    "        batMat = torch.from_numpy(batMat)                       #change ndarray to tensor\n",
    "        dCoef = dz * batMat                                                 #dCoef.shape = (10001, batch_size)\n",
    "        sumHelper = np.ones((batch_size,1), dtype = int)    #sumHelper.shape = (batch_size,1)\n",
    "        sumDCoef += np.dot(dCoef, sumHelper)                 #sumDCoef.shape = (10001, batch_size)\n",
    "        \n",
    "        \n",
    "        # Calculate Total Loss\n",
    "        a = torch.from_numpy(a)                       #change ndarray to tensor\n",
    "        dLabels = labels.double()                      #change tensor type to double\n",
    "        L = -(dLabels) * np.log(a) - (1-dLabels) * np.log(1-a)      #labels.shape = (1, batch_size), L.shape = (1,batch_size)\n",
    "        sumL += L.sum()\n",
    "        \n",
    "        \n",
    "        \n",
    "        # Calculate Accuracy\n",
    "        \n",
    "\n",
    "        for batIdx in range(batch_size):\n",
    "\n",
    "            if(a[0][batIdx] <= 0.5 and labels[batIdx] == 0):\n",
    "                cor += 1\n",
    "\n",
    "            if(a[0][batIdx] > 0.5 and labels[batIdx] == 1):\n",
    "                cor += 1\n",
    "            \n",
    "        \n",
    "    \n",
    "    totalDataNum = len(trainloader.dataset)\n",
    "        \n",
    "    # Calculate dLossdCoef\n",
    "\n",
    "    sumDCoef /= totalDataNum\n",
    "\n",
    "    # Update coefs using derivatives\n",
    "    coef = coef.T\n",
    "    coef -= lrnRate * sumDCoef\n",
    "    coef = coef.T\n",
    "    \n",
    "    elapsed_time = time.time() - start_time\n",
    "    elapTime.append(elapsed_time)\n",
    "\n",
    "\n",
    "    # Calculate TotalLoss\n",
    "    sumL /= totalDataNum\n",
    "\n",
    "    lrnLoss.append(sumL)\n",
    "    \n",
    "    \n",
    "    # Calculate Accuracy\n",
    "    \n",
    "    lrnAccRate = cor/totalDataNum\n",
    "    lrnAcc.append(lrnAccRate)\n",
    "    \n",
    "                \n",
    "\n",
    "\n",
    "    # Set Sum Of Valid Loss to 0\n",
    "    sumVL = 0\n",
    "    # Set Sum of Valid Cor to 0\n",
    "    vCor = 0\n",
    "    \n",
    "    # load validation images of the batch size for every iteration\n",
    "    for i, data in enumerate(valloader):\n",
    "        \n",
    "        # inputs is the image\n",
    "        # labels is the class of the image\n",
    "        inputs, labels = data\n",
    "        \n",
    "        # if you don't change the image size, it will be [batch_size, 1, 100, 100]\n",
    "         # if labels is horse it returns tensor[0,0,0] else it returns tensor[1,1,1]\n",
    "\n",
    "        batch_size = inputs.shape[0]\n",
    "        \n",
    "    \n",
    "        # Change Inputs to matrix 10000*batch_size\n",
    "        \n",
    "        for bat_idx in range(batch_size):\n",
    "            targMat = inputs[bat_idx][0]\n",
    "            colVec = np.reshape(targMat, (np.product(targMat.shape), 1), 'F')\n",
    "            \n",
    "            if(bat_idx == 0):\n",
    "                batMat = colVec\n",
    "            else:\n",
    "                batMat = np.concatenate((batMat,colVec), axis = 1)\n",
    "                \n",
    "            \n",
    "            \n",
    "        # Add ones because of the value b in coefficient\n",
    "        ones = np.ones((1, batch_size), dtype = int)\n",
    "        batMat = np.concatenate((batMat, ones))\n",
    "\n",
    "        \n",
    "        # Start Calculate Loss \n",
    "        z = np.dot(coef, batMat)\n",
    "        a = 1/(1+np.exp(-z))\n",
    "        a = torch.from_numpy(a)\n",
    "        dLabels = labels.double()\n",
    "        L = -(dLabels) * np.log(a) - (1-dLabels) * np.log(1-a)\n",
    "        sumVL += L.sum()\n",
    "\n",
    "        \n",
    "        # Calculate Accuracy\n",
    "        \n",
    "        for batIdx in range(batch_size):\n",
    "            if(a[0][batIdx] <= 0.5 and labels[batIdx] == 0):\n",
    "                vCor += 1\n",
    "                \n",
    "            if(a[0][batIdx] > 0.5 and labels[batIdx] == 1):\n",
    "                vCor += 1\n",
    "    \n",
    "    totalValDataNum = len(valloader.dataset)\n",
    "    \n",
    "    # CalCulate Total Loss\n",
    "    sumVL /= totalValDataNum\n",
    "    valLoss.append(sumVL)\n",
    "    \n",
    "    \n",
    "    # Calculate Accuracy\n",
    "    vAcc = vCor/totalValDataNum\n",
    "    valAcc.append(vAcc)\n",
    "    \n",
    "    \n",
    "    print(\"epoch : \",epoch,',', \"lrnCor : \", cor, \"valCor : \", vCor, \"elapsed time : \", elapsed_time)\n",
    "    \n",
    "    "
   ]
  },
  {
   "cell_type": "code",
   "execution_count": 86,
   "metadata": {},
   "outputs": [
    {
     "name": "stdout",
     "output_type": "stream",
     "text": [
      "[tensor(0.6931, dtype=torch.float64), tensor(0.6862, dtype=torch.float64), tensor(0.6817, dtype=torch.float64), tensor(0.6778, dtype=torch.float64), tensor(0.6742, dtype=torch.float64)]\n",
      "[0.48685491723466406, 0.5131450827653359, 0.5150925024342746, 0.5150925024342746, 0.5404089581304771]\n",
      "[tensor(0.7044, dtype=torch.float64), tensor(0.6820, dtype=torch.float64), tensor(0.6805, dtype=torch.float64), tensor(0.6703, dtype=torch.float64), tensor(0.6649, dtype=torch.float64)]\n",
      "[0.5, 0.5, 0.5, 0.5, 0.50390625]\n",
      "tensor(0.6742, dtype=torch.float64)\n",
      "0.5404089581304771\n",
      "tensor(0.6649, dtype=torch.float64)\n",
      "0.50390625\n"
     ]
    }
   ],
   "source": [
    "print(lrnLoss)\n",
    "print(lrnAcc)\n",
    "print(valLoss)\n",
    "print(valAcc)\n",
    "\n",
    "print(lrnLoss[-1])\n",
    "print(lrnAcc[-1])\n",
    "print(valLoss[-1])\n",
    "print(valAcc[-1])"
   ]
  },
  {
   "cell_type": "code",
   "execution_count": 76,
   "metadata": {
    "scrolled": false
   },
   "outputs": [
    {
     "data": {
      "text/plain": [
       "[<matplotlib.lines.Line2D at 0x122f63128>]"
      ]
     },
     "execution_count": 76,
     "metadata": {},
     "output_type": "execute_result"
    },
    {
     "data": {
      "image/png": "[encoded data removed]",
      "text/plain": [
       "<Figure size 432x288 with 1 Axes>"
      ]
     },
     "metadata": {
      "needs_background": "light"
     },
     "output_type": "display_data"
    }
   ],
   "source": [
    "plt.plot(lrnLoss)"
   ]
  },
  {
   "cell_type": "code",
   "execution_count": 77,
   "metadata": {},
   "outputs": [
    {
     "data": {
      "text/plain": [
       "[<matplotlib.lines.Line2D at 0x12304b048>]"
      ]
     },
     "execution_count": 77,
     "metadata": {},
     "output_type": "execute_result"
    },
    {
     "data": {
      "image/png": "[encoded data removed]",
      "text/plain": [
       "<Figure size 432x288 with 1 Axes>"
      ]
     },
     "metadata": {
      "needs_background": "light"
     },
     "output_type": "display_data"
    }
   ],
   "source": [
    "plt.plot(lrnAcc)"
   ]
  },
  {
   "cell_type": "code",
   "execution_count": 78,
   "metadata": {},
   "outputs": [
    {
     "data": {
      "text/plain": [
       "[<matplotlib.lines.Line2D at 0x1230ae2b0>]"
      ]
     },
     "execution_count": 78,
     "metadata": {},
     "output_type": "execute_result"
    },
    {
     "data": {
      "image/png": "[encoded data removed]",
      "text/plain": [
       "<Figure size 432x288 with 1 Axes>"
      ]
     },
     "metadata": {
      "needs_background": "light"
     },
     "output_type": "display_data"
    }
   ],
   "source": [
    "plt.plot(valLoss)"
   ]
  },
  {
   "cell_type": "code",
   "execution_count": 79,
   "metadata": {},
   "outputs": [
    {
     "data": {
      "text/plain": [
       "[<matplotlib.lines.Line2D at 0x1231ec860>]"
      ]
     },
     "execution_count": 79,
     "metadata": {},
     "output_type": "execute_result"
    },
    {
     "data": {
      "image/png": "[encoded data removed]",
      "text/plain": [
       "<Figure size 432x288 with 1 Axes>"
      ]
     },
     "metadata": {
      "needs_background": "light"
     },
     "output_type": "display_data"
    }
   ],
   "source": [
    "plt.plot(valAcc)"
   ]
  },
  {
   "cell_type": "code",
   "execution_count": 80,
   "metadata": {},
   "outputs": [
    {
     "data": {
      "text/plain": [
       "[<matplotlib.lines.Line2D at 0x123258d68>]"
      ]
     },
     "execution_count": 80,
     "metadata": {},
     "output_type": "execute_result"
    },
    {
     "data": {
      "image/png": "[encoded data removed]",
      "text/plain": [
       "<Figure size 432x288 with 1 Axes>"
      ]
     },
     "metadata": {
      "needs_background": "light"
     },
     "output_type": "display_data"
    }
   ],
   "source": [
    "plt.plot(elapTime)"
   ]
  },
  {
   "cell_type": "code",
   "execution_count": 87,
   "metadata": {},
   "outputs": [
    {
     "name": "stdout",
     "output_type": "stream",
     "text": [
      "----------  ------------------  ------------------\n",
      "Dataset     Loss                Accuracy\n",
      "Training    0.6742244064479908  0.5404089581304771\n",
      "Validation  0.6648950789669883  0.50390625\n",
      "----------  ------------------  ------------------\n"
     ]
    }
   ],
   "source": [
    "print(tabulate([[\"Dataset\", \"Loss\", \"Accuracy\"], [\"Training\", lrnLoss[-1], lrnAcc[-1]], [\"Validation\", valLoss[-1], valAcc[-1]]]))"
   ]
  },
  {
   "cell_type": "code",
   "execution_count": 100,
   "metadata": {},
   "outputs": [
    {
     "name": "stdout",
     "output_type": "stream",
     "text": [
      "  Dataset   |   Loss   | Accuracy\n",
      "  Training  | 0.6742 | 0.5404\n",
      " Validation| 0.6649 | 0.5039\n"
     ]
    }
   ],
   "source": [
    "print(\"  Dataset   |   Loss   | Accuracy\")\n",
    "\n",
    "print(\"  Training  | %.4f | %.4f\" % (lrnLoss[-1], lrnAcc[-1]))\n",
    "print(\" Validation| %.4f | %.4f\" % (valLoss[-1], valAcc[-1]))"
   ]
  },
  {
   "cell_type": "code",
   "execution_count": null,
   "metadata": {},
   "outputs": [],
   "source": []
  }
 ],
 "metadata": {
  "kernelspec": {
   "display_name": "Python 3",
   "language": "python",
   "name": "python3"
  },
  "language_info": {
   "codemirror_mode": {
    "name": "ipython",
    "version": 3
   },
   "file_extension": ".py",
   "mimetype": "text/x-python",
   "name": "python",
   "nbconvert_exporter": "python",
   "pygments_lexer": "ipython3",
   "version": "3.7.3"
  }
 },
 "nbformat": 4,
 "nbformat_minor": 2
}
